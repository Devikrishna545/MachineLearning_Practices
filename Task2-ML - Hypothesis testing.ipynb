{
 "cells": [
  {
   "cell_type": "code",
   "execution_count": null,
   "id": "3fd07e7e-9dac-4330-9a19-17928dbaa4fe",
   "metadata": {},
   "outputs": [],
   "source": [
    "# Suppose a child psychologist claims that the average time working mothers spend talking to their children is at least 11 minutes per day. \n",
    "#You conduct a random sample of 1000 working mothers and find they spend an average of 11.5 minutes per day talking with their children.\n",
    "#Assume prior research suggests the population standard deviation is 2.3 minutes.Conduct a test with a level of significance of alpha = 0.05.\n",
    "\n",
    "# sample population =1000\n",
    "# sample population mean =11.5\n",
    "# claimed population mean  = 11 \n",
    "# standard deviation = 2.3\n",
    "# significance level = 5%\n",
    "\n",
    "# 1. state the hypothesis :  average time working mother talk with children is atleast 11 minutes per day\n",
    "\n",
    "# null hypothesis :average time is > 11\n",
    "# alternate hypothesis :average time is <= 11\n",
    "\n",
    "#2. calculate the test statistics \n",
    "\n",
    "#z-test = sample mean -population mean/sample standard deviation\n",
    "        = 11.5-11/(2.3)\n",
    "        "
   ]
  },
  {
   "cell_type": "markdown",
   "id": "6ad08c63-1262-4831-a4c4-25baab553edd",
   "metadata": {},
   "source": [
    "## z-test"
   ]
  },
  {
   "cell_type": "code",
   "execution_count": 17,
   "id": "18c29d04-ff17-4c03-bc00-ef8380a9e087",
   "metadata": {},
   "outputs": [
    {
     "name": "stdout",
     "output_type": "stream",
     "text": [
      "0.2173913043478261\n"
     ]
    }
   ],
   "source": [
    "z=(11.5-11)/2.3\n",
    "print(z)"
   ]
  },
  {
   "cell_type": "markdown",
   "id": "504a36ac-cd04-48a1-a9f0-04ccf0d368b3",
   "metadata": {},
   "source": [
    "## interpreting z-score"
   ]
  },
  {
   "cell_type": "code",
   "execution_count": 16,
   "id": "23255b0a-97b1-44be-b12b-bbd4f1619847",
   "metadata": {},
   "outputs": [
    {
     "ename": "SyntaxError",
     "evalue": "invalid syntax (1766488457.py, line 4)",
     "output_type": "error",
     "traceback": [
      "\u001b[1;36m  Cell \u001b[1;32mIn[16], line 4\u001b[1;36m\u001b[0m\n\u001b[1;33m    58.32 % of mother talks atleast 11 minutes ,(100-58.32)=41.68 % talks more than 11 minutes\u001b[0m\n\u001b[1;37m               ^\u001b[0m\n\u001b[1;31mSyntaxError\u001b[0m\u001b[1;31m:\u001b[0m invalid syntax\n"
     ]
    }
   ],
   "source": [
    "# finding p value  or finding critical value \n",
    "# From the z score table, the fraction of the data within this score is .5832(cumilative probability)\n",
    "\n",
    "58.32 % of mother talks atleast 11 minutes ,(100-58.32)=41.68 % talks more than 11 minutes "
   ]
  },
  {
   "cell_type": "markdown",
   "id": "c675aecc-a85c-4c9b-ab4e-e9a122e84106",
   "metadata": {},
   "source": [
    "## finding p value"
   ]
  },
  {
   "cell_type": "code",
   "execution_count": 18,
   "id": "738a2cf8-454b-467f-ab3f-9fcf8e0f401b",
   "metadata": {},
   "outputs": [
    {
     "name": "stdout",
     "output_type": "stream",
     "text": [
      "0.5832\n"
     ]
    }
   ],
   "source": [
    "#so cumilative probability value is .5832\n",
    "#as it is left tailed test p-value  =  cumilative probability\n",
    "#interpretation of p value\n",
    "#compare p value with significance level \n",
    "cumilative_probability = .5832\n",
    "p = .5832\n",
    "print (p)"
   ]
  },
  {
   "cell_type": "markdown",
   "id": "ac394b92-58a0-423a-86fe-19ce842bce43",
   "metadata": {},
   "source": [
    "## conclusion"
   ]
  },
  {
   "cell_type": "code",
   "execution_count": null,
   "id": "f35545ba-1b6e-4bab-a35c-90b02bd51d96",
   "metadata": {},
   "outputs": [],
   "source": [
    "# as p value > the significance level , failed to reject the null hypothesis \n",
    "# .5832>0.05 ,failed to reject the null hypothesis \n",
    "# This means that the sample data does not provide strong evidence against the claim that the average time \n",
    "# working mothers spend talking to their children is at least 11 minutes per day."
   ]
  },
  {
   "cell_type": "markdown",
   "id": "15b5cf93-8931-45f0-a95d-4f8eb4d8ede8",
   "metadata": {},
   "source": [
    "# Q2"
   ]
  },
  {
   "cell_type": "code",
   "execution_count": null,
   "id": "66d15562-2988-41e8-9afd-d7ea5d076c2b",
   "metadata": {},
   "outputs": [],
   "source": [
    "# A coffee shop claims that their average wait time for customers is less than 5 minutes. To test this claim, a sample of 40 customers is taken, \n",
    "# and their wait times are recorded. The sample mean wait time is found to be 4.6 minutes with a standard deviation of 0.8 minutes. \n",
    "# Perform a hypothesis test at a significance level of 0.05 and determine whether there is enough evidence to support the coffee shop's claim"
   ]
  },
  {
   "cell_type": "code",
   "execution_count": null,
   "id": "57b7bb98-fac0-499a-b9b5-b783ef249f33",
   "metadata": {},
   "outputs": [],
   "source": [
    "# sample population=40\n",
    "# sample mean time = 4.6\n",
    "# claimed time = 5 \n",
    "# standard deviation = 0.8\n",
    "# significance level =5%"
   ]
  },
  {
   "cell_type": "markdown",
   "id": "faa7a2af-9183-4d48-92e6-2e862c470203",
   "metadata": {},
   "source": [
    "### state the hypothesis"
   ]
  },
  {
   "cell_type": "code",
   "execution_count": null,
   "id": "78f02b5e-eac2-4f0e-8efc-2c8407c7251e",
   "metadata": {},
   "outputs": [],
   "source": [
    "# null hypothesis h0 is average wait time for customers > 5 minutes\n",
    "# alternate hypothesis h1 is average wait time for customers < 5 minutes."
   ]
  },
  {
   "cell_type": "markdown",
   "id": "e140c660-cc03-4a0d-81fa-2e81110a1572",
   "metadata": {},
   "source": [
    "### calculate the test statistics "
   ]
  },
  {
   "cell_type": "code",
   "execution_count": 13,
   "id": "705c6371-232c-4e8c-af06-7b3eae0c02dc",
   "metadata": {},
   "outputs": [],
   "source": [
    "import math"
   ]
  },
  {
   "cell_type": "code",
   "execution_count": 15,
   "id": "ae61c74b-c75a-42e5-a7c4-a4e035c8e5e9",
   "metadata": {},
   "outputs": [
    {
     "name": "stdout",
     "output_type": "stream",
     "text": [
      "-3.9528470752104745\n"
     ]
    }
   ],
   "source": [
    "#t-test -as the sample size is very less we can do t-test\n",
    "#t_test = (sample_meantime - claimed-meantime )/(s.d/sqrt(total population))\n",
    "\n",
    "t_score=(4.5-5)/(0.8/math.sqrt(40))\n",
    "print(t_score)"
   ]
  },
  {
   "cell_type": "markdown",
   "id": "c12a859a-e728-4c81-b64a-32fd3837f3c7",
   "metadata": {},
   "source": [
    "### calculate p value "
   ]
  },
  {
   "cell_type": "code",
   "execution_count": null,
   "id": "8e4bf8b9-0460-4db2-893e-7d867548ea43",
   "metadata": {},
   "outputs": [],
   "source": [
    "# degrees of freedom = 40-1 = 39\n",
    "## calculated threshold value from t distribution table with df as 39 and significance level as 5%\n",
    "# threshold value or p value  = -1.6849"
   ]
  },
  {
   "cell_type": "markdown",
   "id": "6add2c24-dd54-4a55-b45d-cfb79c859677",
   "metadata": {},
   "source": [
    "### conclusion"
   ]
  },
  {
   "cell_type": "code",
   "execution_count": null,
   "id": "a682070d-fd41-4501-8a6f-8737a744ee1f",
   "metadata": {},
   "outputs": [],
   "source": [
    "# the t value is much lesser than critical value ,so we reject the null hypothesis,and the claim is true ."
   ]
  }
 ],
 "metadata": {
  "kernelspec": {
   "display_name": "Python 3 (ipykernel)",
   "language": "python",
   "name": "python3"
  },
  "language_info": {
   "codemirror_mode": {
    "name": "ipython",
    "version": 3
   },
   "file_extension": ".py",
   "mimetype": "text/x-python",
   "name": "python",
   "nbconvert_exporter": "python",
   "pygments_lexer": "ipython3",
   "version": "3.11.4"
  }
 },
 "nbformat": 4,
 "nbformat_minor": 5
}
